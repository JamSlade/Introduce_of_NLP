{
 "cells": [
  {
   "attachments": {},
   "cell_type": "markdown",
   "id": "feaab5a1",
   "metadata": {},
   "source": [
    "### 一、任务描述：IMDB电影评论处理\n",
    "使用IMDB电影部分评论，进行切分、标准化（消除标点符号、大小写转换、去停用词等）、词干提取、词形还原以及高频词统计的训练。  \n",
    "**输入：** 使用开源数据索引，下载IMDB电影评论数据集，使用其中部分评论（积极消极共20条）,已下载在本地的data文件夹中。  \n",
    "http://ai.stanford.edu/~amaas/data/sentiment/\n",
    "\n",
    "**输出：** 每一步都需要输出，如  \n",
    "\n",
    "Tokenization: [\"don't\", 'hesitate', 'to', 'ask', 'questions', '.', 'he', 'works', 'happily', '.']  \n",
    "Normalization: ['dont', 'hesitate', 'ask', 'questions', 'works', 'happily']  \n",
    "Stemming: ['dont', 'hesit', 'ask', 'quest', 'work', 'happy']  \n",
    "Lemmatization: ['dont', 'hesitate', 'ask', 'question', 'work', 'happily']  \n",
    "Freq: 统计词频，按顺序从高到低列出前十个单词  "
   ]
  },
  {
   "cell_type": "markdown",
   "id": "41832d70",
   "metadata": {},
   "source": [
    "---\n",
    "\n",
    "#### Step 1 Tokenization:\n",
    "\n",
    "第一步，处理 json 文件，只考虑\"reviewText\"部分\n",
    "\n",
    "第二步，分词\n"
   ]
  },
  {
   "cell_type": "code",
   "execution_count": 9,
   "id": "4eb50465",
   "metadata": {},
   "outputs": [],
   "source": [
    "import nltk\n",
    "from nltk import sent_tokenize, word_tokenize\n",
    "from nltk.corpus import stopwords\n",
    "from collections import Counter\n",
    "from nltk.tokenize import RegexpTokenizer\n",
    "from nltk.tokenize import regexp_tokenize\n",
    "import json\n",
    "import os\n",
    "\n",
    "text=[]\n",
    "file_list = os.listdir('data/')\n",
    "for file in file_list:\n",
    "    f_obj = open('data/'+file, 'r')\n",
    "    line = f_obj.readline()\n",
    "    text.append(line)\n",
    "    #print(text)\n",
    "# text[0]\n",
    "\n",
    "\n",
    "TOK = []\n",
    "leng = len(text)\n",
    "# for i in range(len(text)):\n",
    "#     st = sent_tokenize(text[i])\n",
    "#     wd = [word_tokenize(j) for j in st]\n",
    "#     TOK.append(wd)\n",
    "    \n",
    "for i in range(len(text)):\n",
    "    st = sent_tokenize(text[i])\n",
    "    wd = [nltk.WordPunctTokenizer().tokenize(j) for j in st]\n",
    "    TOK.append(wd)\n",
    "# 由于sent_tokenize分词效果有一些不理想，比如出现nt这种后缀，但这种\n",
    "# 后缀在停用词内没出现\n",
    "# 所以这里换用WordPunctTokenizer的tokenize进行分词效果更好一些\n"
   ]
  },
  {
   "cell_type": "code",
   "execution_count": 10,
   "id": "4f1ff7a6",
   "metadata": {},
   "outputs": [
    {
     "name": "stdout",
     "output_type": "stream",
     "text": [
      "[['Bromwell', 'High', 'is', 'a', 'cartoon', 'comedy', '.'], ['It', 'ran', 'at', 'the', 'same', 'time', 'as', 'some', 'other', 'programs', 'about', 'school', 'life', ',', 'such', 'as', '\"', 'Teachers', '\".'], ['My', '35', 'years', 'in', 'the', 'teaching', 'profession', 'lead', 'me', 'to', 'believe', 'that', 'Bromwell', 'High', \"'\", 's', 'satire', 'is', 'much', 'closer', 'to', 'reality', 'than', 'is', '\"', 'Teachers', '\".'], ['The', 'scramble', 'to', 'survive', 'financially', ',', 'the', 'insightful', 'students', 'who', 'can', 'see', 'right', 'through', 'their', 'pathetic', 'teachers', \"'\", 'pomp', ',', 'the', 'pettiness', 'of', 'the', 'whole', 'situation', ',', 'all', 'remind', 'me', 'of', 'the', 'schools', 'I', 'knew', 'and', 'their', 'students', '.'], ['When', 'I', 'saw', 'the', 'episode', 'in', 'which', 'a', 'student', 'repeatedly', 'tried', 'to', 'burn', 'down', 'the', 'school', ',', 'I', 'immediately', 'recalled', '.........', 'at', '..........', 'High', '.'], ['A', 'classic', 'line', ':', 'INSPECTOR', ':', 'I', \"'\", 'm', 'here', 'to', 'sack', 'one', 'of', 'your', 'teachers', '.'], ['STUDENT', ':', 'Welcome', 'to', 'Bromwell', 'High', '.'], ['I', 'expect', 'that', 'many', 'adults', 'of', 'my', 'age', 'think', 'that', 'Bromwell', 'High', 'is', 'far', 'fetched', '.'], ['What', 'a', 'pity', 'that', 'it', 'isn', \"'\", 't', '!']]\n"
     ]
    },
    {
     "data": {
      "text/plain": [
       "' \\nTOK \\n是一个三维数组，第一维度存放文章\\n第二维度存放句子\\n第三维存放词语\\n由于数据太大，ipynb内只展示一篇文章\\n详细输出存放在txt文件中\\n'"
      ]
     },
     "execution_count": 10,
     "metadata": {},
     "output_type": "execute_result"
    }
   ],
   "source": [
    "print(TOK[0])\n",
    "\n",
    "''' \n",
    "TOK \n",
    "是一个三维数组，第一维度存放文章\n",
    "第二维度存放句子\n",
    "第三维存放词语\n",
    "由于数据太大，ipynb内只展示一篇文章\n",
    "详细输出存放在txt文件中\n",
    "'''\n",
    "\n"
   ]
  },
  {
   "cell_type": "markdown",
   "id": "42c7d309",
   "metadata": {},
   "source": [
    "---\n",
    "\n",
    "#### Step 2 Normalization:\n",
    "\n",
    "第三步, 标准化，即全部小写、去标点、去停用词\n",
    "\n"
   ]
  },
  {
   "cell_type": "code",
   "execution_count": 11,
   "id": "dc88bd03",
   "metadata": {},
   "outputs": [
    {
     "name": "stdout",
     "output_type": "stream",
     "text": [
      "[['bromwell', 'high', 'is', 'a', 'cartoon', 'comedy', ''], ['it', 'ran', 'at', 'the', 'same', 'time', 'as', 'some', 'other', 'programs', 'about', 'school', 'life', '', 'such', 'as', '', 'teachers', ''], ['my', '35', 'years', 'in', 'the', 'teaching', 'profession', 'lead', 'me', 'to', 'believe', 'that', 'bromwell', 'high', '', 's', 'satire', 'is', 'much', 'closer', 'to', 'reality', 'than', 'is', '', 'teachers', ''], ['the', 'scramble', 'to', 'survive', 'financially', '', 'the', 'insightful', 'students', 'who', 'can', 'see', 'right', 'through', 'their', 'pathetic', 'teachers', '', 'pomp', '', 'the', 'pettiness', 'of', 'the', 'whole', 'situation', '', 'all', 'remind', 'me', 'of', 'the', 'schools', 'i', 'knew', 'and', 'their', 'students', ''], ['when', 'i', 'saw', 'the', 'episode', 'in', 'which', 'a', 'student', 'repeatedly', 'tried', 'to', 'burn', 'down', 'the', 'school', '', 'i', 'immediately', 'recalled', '', 'at', '', 'high', ''], ['a', 'classic', 'line', '', 'inspector', '', 'i', '', 'm', 'here', 'to', 'sack', 'one', 'of', 'your', 'teachers', ''], ['student', '', 'welcome', 'to', 'bromwell', 'high', ''], ['i', 'expect', 'that', 'many', 'adults', 'of', 'my', 'age', 'think', 'that', 'bromwell', 'high', 'is', 'far', 'fetched', ''], ['what', 'a', 'pity', 'that', 'it', 'isn', '', 't', '']] \n",
      "\n",
      "[['bromwell', 'high', 'cartoon', 'comedy'], ['ran', 'time', 'programs', 'school', 'life', 'teachers'], ['35', 'years', 'teaching', 'profession', 'lead', 'believe', 'bromwell', 'high', 'satire', 'much', 'closer', 'reality', 'teachers'], ['scramble', 'survive', 'financially', 'insightful', 'students', 'see', 'right', 'pathetic', 'teachers', 'pomp', 'pettiness', 'whole', 'situation', 'remind', 'schools', 'knew', 'students'], ['saw', 'episode', 'student', 'repeatedly', 'tried', 'burn', 'school', 'immediately', 'recalled', 'high'], ['classic', 'line', 'inspector', 'sack', 'one', 'teachers'], ['student', 'welcome', 'bromwell', 'high'], ['expect', 'many', 'adults', 'age', 'think', 'bromwell', 'high', 'far', 'fetched'], ['pity']]\n"
     ]
    }
   ],
   "source": [
    "import re\n",
    "import string\n",
    "\n",
    "#print(TOK[0])\n",
    "NOR = []\n",
    "pattern=re.compile(\"[^a-zA-Z0-9\\n ]\")\n",
    "for i in range(len(TOK)):\n",
    "    tx = []\n",
    "    for j in range(len(TOK[i])):\n",
    "        st = []\n",
    "        for k in range(len(TOK[i][j])):\n",
    "            TOK[i][j][k] = re.sub(pattern, \"\", TOK[i][j][k]).lower()\n",
    "            if (TOK[i][j][k] not in stopwords.words('english')\\\n",
    "                and TOK[i][j][k] != ''):\n",
    "                st.append(TOK[i][j][k] )\n",
    "            # print(st,'\\n')\n",
    "        tx.append(st)\n",
    "    NOR.append(tx)\n",
    "print(TOK[0],'\\n')\n",
    "print(NOR[0])\n",
    "# 篇幅受限 只输出第一篇文章"
   ]
  },
  {
   "cell_type": "markdown",
   "id": "385cc1b3",
   "metadata": {},
   "source": [
    "---\n",
    "\n",
    "#### Step 3 Stemming:\n",
    "\n",
    "第四步，词干提取\n",
    "\n"
   ]
  },
  {
   "cell_type": "code",
   "execution_count": 12,
   "id": "cb1699ef",
   "metadata": {},
   "outputs": [
    {
     "name": "stdout",
     "output_type": "stream",
     "text": [
      "[['bromwell', 'high', 'cartoon', 'comedy'], ['ran', 'time', 'programs', 'school', 'life', 'teachers'], ['35', 'years', 'teaching', 'profession', 'lead', 'believe', 'bromwell', 'high', 'satire', 'much', 'closer', 'reality', 'teachers'], ['scramble', 'survive', 'financially', 'insightful', 'students', 'see', 'right', 'pathetic', 'teachers', 'pomp', 'pettiness', 'whole', 'situation', 'remind', 'schools', 'knew', 'students'], ['saw', 'episode', 'student', 'repeatedly', 'tried', 'burn', 'school', 'immediately', 'recalled', 'high'], ['classic', 'line', 'inspector', 'sack', 'one', 'teachers'], ['student', 'welcome', 'bromwell', 'high'], ['expect', 'many', 'adults', 'age', 'think', 'bromwell', 'high', 'far', 'fetched'], ['pity']] \n",
      "\n",
      "[['bromwel', 'high', 'cartoon', 'comedi'], ['ran', 'time', 'program', 'school', 'life', 'teacher'], ['35', 'year', 'teach', 'profess', 'lead', 'believ', 'bromwel', 'high', 'satir', 'much', 'closer', 'realiti', 'teacher'], ['scrambl', 'surviv', 'financi', 'insight', 'student', 'see', 'right', 'pathet', 'teacher', 'pomp', 'petti', 'whole', 'situat', 'remind', 'school', 'knew', 'student'], ['saw', 'episod', 'student', 'repeatedli', 'tri', 'burn', 'school', 'immedi', 'recal', 'high'], ['classic', 'line', 'inspector', 'sack', 'one', 'teacher'], ['student', 'welcom', 'bromwel', 'high'], ['expect', 'mani', 'adult', 'age', 'think', 'bromwel', 'high', 'far', 'fetch'], ['piti']]\n"
     ]
    }
   ],
   "source": [
    "from nltk.stem.porter import PorterStemmer\n",
    "\n",
    "PS = []\n",
    "all_p = []\n",
    "for i in range(len(NOR)):\n",
    "    tx = []\n",
    "    for j in range(len(NOR[i])):\n",
    "        st = []\n",
    "        for k in NOR[i][j]:\n",
    "            pt_stem = PorterStemmer().stem(k)\n",
    "            st.append(pt_stem)\n",
    "            all_p.append(pt_stem)\n",
    "            # print(st,'\\n')\n",
    "        tx.append(st)\n",
    "    PS.append(tx)\n",
    "print(NOR[0],\"\\n\")\n",
    "print(PS[0])\n",
    "# 篇幅受限 只输出第一篇文章"
   ]
  },
  {
   "cell_type": "markdown",
   "id": "6965584c",
   "metadata": {},
   "source": [
    "----\n",
    "\n",
    "#### Step 4 Lemmatization:\n",
    "\n",
    "第五步，词形还原\n",
    "\n"
   ]
  },
  {
   "cell_type": "code",
   "execution_count": 13,
   "id": "83eef1eb",
   "metadata": {},
   "outputs": [],
   "source": [
    "# 需要下载词库\n",
    "# 直接执行报错的话可以打开cmd，输入python后再执行以下代码\n",
    "# import nltk\n",
    "# nltk.download('averaged_perceptron_tagger')"
   ]
  },
  {
   "cell_type": "code",
   "execution_count": 14,
   "id": "a2e5c3ec",
   "metadata": {},
   "outputs": [
    {
     "name": "stdout",
     "output_type": "stream",
     "text": [
      "[['bromwell', 'high', 'cartoon', 'comedy'], ['ran', 'time', 'programs', 'school', 'life', 'teachers'], ['35', 'years', 'teaching', 'profession', 'lead', 'believe', 'bromwell', 'high', 'satire', 'much', 'closer', 'reality', 'teachers'], ['scramble', 'survive', 'financially', 'insightful', 'students', 'see', 'right', 'pathetic', 'teachers', 'pomp', 'pettiness', 'whole', 'situation', 'remind', 'schools', 'knew', 'students'], ['saw', 'episode', 'student', 'repeatedly', 'tried', 'burn', 'school', 'immediately', 'recalled', 'high'], ['classic', 'line', 'inspector', 'sack', 'one', 'teachers'], ['student', 'welcome', 'bromwell', 'high'], ['expect', 'many', 'adults', 'age', 'think', 'bromwell', 'high', 'far', 'fetched'], ['pity']] \n",
      "\n",
      "The noun change \n",
      " [['bromwell', 'high', 'cartoon', 'comedy'], ['ran', 'time', 'program', 'school', 'life', 'teacher'], ['35', 'year', 'teaching', 'profession', 'lead', 'believe', 'bromwell', 'high', 'satire', 'much', 'closer', 'reality', 'teacher'], ['scramble', 'survive', 'financially', 'insightful', 'student', 'see', 'right', 'pathetic', 'teacher', 'pomp', 'pettiness', 'whole', 'situation', 'remind', 'school', 'knew', 'student'], ['saw', 'episode', 'student', 'repeatedly', 'tried', 'burn', 'school', 'immediately', 'recalled', 'high'], ['classic', 'line', 'inspector', 'sack', 'one', 'teacher'], ['student', 'welcome', 'bromwell', 'high'], ['expect', 'many', 'adult', 'age', 'think', 'bromwell', 'high', 'far', 'fetched'], ['pity']] \n",
      "\n",
      "The verb change \n",
      " [['bromwell', 'high', 'cartoon', 'comedy'], ['run', 'time', 'program', 'school', 'life', 'teachers'], ['35', 'years', 'teach', 'profession', 'lead', 'believe', 'bromwell', 'high', 'satire', 'much', 'closer', 'reality', 'teachers'], ['scramble', 'survive', 'financially', 'insightful', 'students', 'see', 'right', 'pathetic', 'teachers', 'pomp', 'pettiness', 'whole', 'situation', 'remind', 'school', 'know', 'students'], ['saw', 'episode', 'student', 'repeatedly', 'try', 'burn', 'school', 'immediately', 'recall', 'high'], ['classic', 'line', 'inspector', 'sack', 'one', 'teachers'], ['student', 'welcome', 'bromwell', 'high'], ['expect', 'many', 'adults', 'age', 'think', 'bromwell', 'high', 'far', 'fetch'], ['pity']]\n"
     ]
    }
   ],
   "source": [
    "from nltk import word_tokenize, pos_tag\n",
    "from nltk.corpus import wordnet\n",
    "from nltk.stem import WordNetLemmatizer\n",
    "\n",
    "lem = WordNetLemmatizer()\n",
    "WNL_n = []\n",
    "all_n = []\n",
    "WNL_v = []\n",
    "all_v = []\n",
    "for i in range(len(NOR)):\n",
    "    txn = []\n",
    "    txv = []\n",
    "    for j in range(len(NOR[i])):\n",
    "        stn = []\n",
    "        stv = []\n",
    "        for k in NOR[i][j]:\n",
    "            nlem = lem.lemmatize(k, pos = 'n')\n",
    "            vlem = lem.lemmatize(k, pos = 'v')\n",
    "            stn.append(nlem)\n",
    "            all_n.append(nlem)\n",
    "            stv.append(vlem)\n",
    "            all_v.append(vlem)\n",
    "        txn.append(stn)\n",
    "        txv.append(stv)\n",
    "    WNL_n.append(txn)\n",
    "    WNL_v.append(txv)\n",
    "    \n",
    "print(NOR[0],\"\\n\")\n",
    "print(\"The noun change \\n\", WNL_n[0],\"\\n\")\n",
    "print(\"The verb change \\n\", WNL_v[0])\n",
    "# 篇幅受限 只输出第一篇文章"
   ]
  },
  {
   "cell_type": "markdown",
   "id": "272d75c5",
   "metadata": {},
   "source": [
    "----\n",
    "#### Step 5 Freq:\n",
    "\n",
    "第六步，统计词频，取前十个单词\n",
    "\n",
    "运行结果：不同处理方式得到的具体数字有所偏差，选用词干提取或者词形还原的结果也有\n",
    "所不同。此处仅供参考。\n",
    "\n",
    "<img src=\"./images/image1.png\" width=\"80%\" height=\"20%\" />"
   ]
  },
  {
   "cell_type": "code",
   "execution_count": 15,
   "id": "a8b72cf2",
   "metadata": {},
   "outputs": [
    {
     "name": "stdout",
     "output_type": "stream",
     "text": [
      "[('br', 52), ('film', 25), ('movie', 20), ('like', 18), ('story', 17), ('turtle', 16), ('time', 13), ('one', 13), ('show', 13), ('good', 12)]\n"
     ]
    },
    {
     "data": {
      "image/png": "[encoded data removed]",
      "text/plain": [
       "<Figure size 640x480 with 1 Axes>"
      ]
     },
     "metadata": {},
     "output_type": "display_data"
    },
    {
     "name": "stdout",
     "output_type": "stream",
     "text": [
      "[('br', 52), ('film', 25), ('like', 19), ('movie', 17), ('turtle', 16), ('get', 14), ('story', 14), ('time', 13), ('show', 13), ('one', 12)]\n"
     ]
    },
    {
     "data": {
      "image/png": "[encoded data removed]",
      "text/plain": [
       "<Figure size 640x480 with 1 Axes>"
      ]
     },
     "metadata": {},
     "output_type": "display_data"
    },
    {
     "name": "stdout",
     "output_type": "stream",
     "text": [
      "[('br', 52), ('film', 25), ('movi', 20), ('like', 19), ('stori', 17), ('turtl', 16), ('time', 13), ('one', 13), ('show', 13), ('good', 12)]\n"
     ]
    },
    {
     "data": {
      "image/png": "[encoded data removed]",
      "text/plain": [
       "<Figure size 640x480 with 1 Axes>"
      ]
     },
     "metadata": {},
     "output_type": "display_data"
    },
    {
     "name": "stdout",
     "output_type": "stream",
     "text": [
      "[('br', 52), ('film', 25), ('movie', 20), ('like', 18), ('story', 17), ('turtle', 16), ('time', 13), ('one', 13), ('show', 13), ('good', 12)]\n"
     ]
    },
    {
     "data": {
      "image/png": "[encoded data removed]",
      "text/plain": [
       "<Figure size 640x480 with 1 Axes>"
      ]
     },
     "metadata": {},
     "output_type": "display_data"
    },
    {
     "name": "stdout",
     "output_type": "stream",
     "text": [
      "[('br', 52), ('film', 25), ('like', 19), ('movie', 17), ('turtle', 16), ('get', 14), ('story', 14), ('time', 13), ('show', 13), ('one', 12)]\n"
     ]
    },
    {
     "data": {
      "image/png": "[encoded data removed]",
      "text/plain": [
       "<Figure size 640x480 with 1 Axes>"
      ]
     },
     "metadata": {},
     "output_type": "display_data"
    },
    {
     "name": "stdout",
     "output_type": "stream",
     "text": [
      "[('br', 52), ('film', 25), ('movi', 20), ('like', 19), ('stori', 17), ('turtl', 16), ('time', 13), ('one', 13), ('show', 13), ('good', 12)]\n"
     ]
    },
    {
     "data": {
      "image/png": "[encoded data removed]",
      "text/plain": [
       "<Figure size 640x480 with 1 Axes>"
      ]
     },
     "metadata": {},
     "output_type": "display_data"
    }
   ],
   "source": [
    "from collections import Counter\n",
    "\n",
    "# print(all_v)\n",
    "# import inspect\n",
    "# def varname(p):\n",
    "#     for line in inspect.getframeinfo(inspect.currentframe().f_back)[3]:\n",
    "#         m = re.search(r'\\bvarname\\s*\\(\\s*([A-Za-z_][A-Za-z0-9_]*)\\s*\\)',line)\n",
    "#         if m:\n",
    "#             return m.group(1)\n",
    "\n",
    "import matplotlib.pyplot as plt\n",
    "\n",
    "plt.rcParams[\"font.sans-serif\"]=['SimHei']\n",
    "plt.rcParams[\"axes.unicode_minus\"]=False\n",
    "\n",
    "temp = [all_n, all_v, all_p]\n",
    "for i in temp:\n",
    "    cnter = Counter(i).most_common(10)\n",
    "    print(cnter)\n",
    "    x = [\"{}\".format(i[0]) for i in cnter]\n",
    "    y = [i[1] for i in cnter]\n",
    "    for i in range(len(x)):\n",
    "        plt.bar(x[i], y[i])\n",
    "    plt.show()\n",
    "for i in temp:\n",
    "    cnter = Counter(i).most_common(10)\n",
    "    print(cnter)\n",
    "    x = [\"{}\".format(i[0]) for i in cnter]\n",
    "    y = [i[1] for i in cnter]\n",
    "    plt.plot(x, y, color = 'r')\n",
    "    plt.grid()\n",
    "    plt.show()\n"
   ]
  },
  {
   "cell_type": "markdown",
   "id": "033959ba",
   "metadata": {},
   "source": [
    "-----------------------------------------\n",
    "### 二、任务描述：基于规则的中文分词方法\n",
    "任务描述：\n",
    "1）依据给定的文本和词表，实现正向最大匹配、逆向最大匹配和双向最大匹配算法。\n",
    "2）jieba分词使用尝试"
   ]
  },
  {
   "cell_type": "markdown",
   "id": "b27dfc78",
   "metadata": {},
   "source": [
    "-----------------------------------------\n",
    "### 正向最大匹配算法\n",
    "sentences = {0:'南京市长江大桥成功落建',\n",
    "1:'北京大学生前来应聘',\n",
    "2:'北京大学生喝进口红酒',\n",
    "3:'在北京大学生活区喝进口红酒',\n",
    "4:'这块地面积还真不小'\n",
    "}\n",
    "\n",
    "dictionary = [中文分词词典]\n"
   ]
  },
  {
   "cell_type": "code",
   "execution_count": 20,
   "id": "af26c3fa",
   "metadata": {},
   "outputs": [
    {
     "name": "stdout",
     "output_type": "stream",
     "text": [
      "MAX_LENGTH = 5\n",
      "['南京市', '长江大桥', '成功', '落', '建']\n",
      "['北京大学', '生前', '来', '应聘']\n",
      "['北京大学', '生', '喝', '进口', '红酒']\n",
      "['在', '北京大学', '生活区', '喝', '进口', '红酒']\n",
      "['这块', '地面', '积', '还', '真', '不小']\n",
      "MAX_LENGTH = 4\n",
      "['南京市', '长江大桥', '成功', '落', '建']\n",
      "['北京大学', '生前', '来', '应聘']\n",
      "['北京大学', '生', '喝', '进口', '红酒']\n",
      "['在', '北京大学', '生活区', '喝', '进口', '红酒']\n",
      "['这块', '地面', '积', '还', '真', '不小']\n",
      "MAX_LENGTH = 3\n",
      "['南京市', '长江', '大桥', '成功', '落', '建']\n",
      "['北京', '大学生', '前来', '应聘']\n",
      "['北京', '大学生', '喝', '进口', '红酒']\n",
      "['在', '北京', '大学生', '活', '区', '喝', '进口', '红酒']\n",
      "['这块', '地面', '积', '还', '真', '不小']\n",
      "MAX_LENGTH = 2\n",
      "['南京', '市长', '江', '大桥', '成功', '落', '建']\n",
      "['北京', '大学', '生前', '来', '应聘']\n",
      "['北京', '大学', '生', '喝', '进口', '红酒']\n",
      "['在', '北京', '大学', '生活', '区', '喝', '进口', '红酒']\n",
      "['这块', '地面', '积', '还', '真', '不小']\n"
     ]
    }
   ],
   "source": [
    "sentences = {0:'南京市长江大桥成功落建',\n",
    "1:'北京大学生前来应聘',\n",
    "2:'北京大学生喝进口红酒',\n",
    "3:'在北京大学生活区喝进口红酒',\n",
    "4:'这块地面积还真不小'}\n",
    "\n",
    "dictionary = []\n",
    "dict_file = open('./dict/dict.txt.small', 'r', encoding='utf-8')\n",
    "for line in dict_file.readlines():\n",
    "    line=line.strip('\\n')\n",
    "    dictionary.append(line)\n",
    "\n",
    "MAX_LENGTH = 5  # 定义单词最大长度,可自由尝试不同长度单词匹配\n",
    "# print(dictionary)\n",
    "\n",
    "def forward_match(st, dic, max_len):\n",
    "    div_res = []\n",
    "    location = 0\n",
    "    while location < len(st):                       # 遍历整个字符串\n",
    "        longest_word = st[location]         \n",
    "        for i in range(location + 1, len(st) + 1):  # 在不超MAX_LENGTH的情况下往后加单个字符判断是否满足要求\n",
    "            temp_word = st[location : i]\n",
    "            if len(temp_word) > max_len:        \n",
    "                break\n",
    "            if temp_word in dic:\n",
    "                if len(temp_word) > len(longest_word):\n",
    "                    longest_word = temp_word\n",
    "        div_res.append(longest_word)                # 加入结果\n",
    "        location += len(longest_word)\n",
    "    return div_res\n",
    "\n",
    "print(\"MAX_LENGTH = 5\")\n",
    "for i in sentences:\n",
    "    out = forward_match(sentences[i], dictionary, MAX_LENGTH)\n",
    "    print(out)\n",
    "#print(forward_match())\n",
    "print(\"MAX_LENGTH = 4\")\n",
    "for i in sentences:\n",
    "    out = forward_match(sentences[i], dictionary, 4)\n",
    "    print(out)\n",
    "print(\"MAX_LENGTH = 3\")\n",
    "for i in sentences:\n",
    "    out = forward_match(sentences[i], dictionary, 3)\n",
    "    print(out)\n",
    "print(\"MAX_LENGTH = 2\")\n",
    "for i in sentences:\n",
    "    out = forward_match(sentences[i], dictionary, 2)\n",
    "    print(out)\n"
   ]
  },
  {
   "cell_type": "markdown",
   "id": "f414da26",
   "metadata": {},
   "source": [
    "-----------------------------------------\n",
    "### 逆向最大匹配算法\n",
    "sentences = {0:'南京市长江大桥成功落建',\n",
    "1:'北京大学生前来应聘',\n",
    "2:'北京大学生喝进口红酒',\n",
    "3:'在北京大学生活区喝进口红酒',\n",
    "4:'这块地面积还真不小'\n",
    "}\n",
    "\n",
    "dictionary = [中文分词词典]\n"
   ]
  },
  {
   "cell_type": "code",
   "execution_count": 21,
   "id": "382525b8",
   "metadata": {},
   "outputs": [
    {
     "name": "stdout",
     "output_type": "stream",
     "text": [
      "MAX_LENGTH = 5\n",
      "['南京市', '长江大桥', '成功', '落', '建']\n",
      "['北京', '大学生', '前来', '应聘']\n",
      "['北京', '大学生', '喝', '进口', '红酒']\n",
      "['在', '北京大学', '生活区', '喝', '进口', '红酒']\n",
      "['这块', '地', '面积', '还', '真', '不小']\n",
      "MAX_LENGTH = 4\n",
      "['南京市', '长江大桥', '成功', '落', '建']\n",
      "['北京', '大学生', '前来', '应聘']\n",
      "['北京', '大学生', '喝', '进口', '红酒']\n",
      "['在', '北京大学', '生活区', '喝', '进口', '红酒']\n",
      "['这块', '地', '面积', '还', '真', '不小']\n",
      "MAX_LENGTH = 3\n",
      "['南京市', '长江', '大桥', '成功', '落', '建']\n",
      "['北京', '大学生', '前来', '应聘']\n",
      "['北京', '大学生', '喝', '进口', '红酒']\n",
      "['在', '北京', '大学', '生活区', '喝', '进口', '红酒']\n",
      "['这块', '地', '面积', '还', '真', '不小']\n",
      "MAX_LENGTH = 2\n",
      "['南京', '市', '长江', '大桥', '成功', '落', '建']\n",
      "['北京', '大', '学生', '前来', '应聘']\n",
      "['北京', '大', '学生', '喝', '进口', '红酒']\n",
      "['在', '北京', '大学', '生活', '区', '喝', '进口', '红酒']\n",
      "['这块', '地', '面积', '还', '真', '不小']\n"
     ]
    }
   ],
   "source": [
    "sentences = {0:'南京市长江大桥成功落建',\n",
    "1:'北京大学生前来应聘',\n",
    "2:'北京大学生喝进口红酒',\n",
    "3:'在北京大学生活区喝进口红酒',\n",
    "4:'这块地面积还真不小'}\n",
    "\n",
    "dictionary = []\n",
    "dict_file = open('./dict/dict.txt.small', 'r', encoding='utf-8')\n",
    "for line in dict_file.readlines():\n",
    "    line=line.strip('\\n')\n",
    "    dictionary.append(line)\n",
    "\n",
    "MAX_LENGTH = 5  # 定义单词最大长度,可自由尝试不同长度单词匹配\n",
    "\n",
    "def backward_match(st, dic, max_len):\n",
    "    # 本质就是前缀反过来\n",
    "    div_res = []\n",
    "    location = 0\n",
    "    st = st[::-1]\n",
    "    while location < len(st):           #原理同forward，在处理过程中需要加入reverse操作来保证语义通顺\n",
    "        longest_word = st[location]     #不加的话从右往左看其实也是可以的\n",
    "        for i in range(location + 1, len(st) + 1):\n",
    "            temp_word = st[location : i]\n",
    "            if len(temp_word) > max_len:\n",
    "                break\n",
    "            temp_word = temp_word[::-1]\n",
    "            if temp_word in dic:\n",
    "                if len(temp_word) > len(longest_word):\n",
    "                    longest_word = temp_word\n",
    "        div_res.append(longest_word)\n",
    "        location += len(longest_word)\n",
    "    div_res.reverse()\n",
    "    return div_res\n",
    "\n",
    "print(\"MAX_LENGTH = 5\")\n",
    "for i in sentences:\n",
    "    out = backward_match(sentences[i], dictionary, MAX_LENGTH)\n",
    "    print(out)\n",
    "print(\"MAX_LENGTH = 4\")\n",
    "for i in sentences:\n",
    "    out = backward_match(sentences[i], dictionary, 4)\n",
    "    print(out)\n",
    "print(\"MAX_LENGTH = 3\")\n",
    "for i in sentences:\n",
    "    out = backward_match(sentences[i], dictionary, 3)\n",
    "    print(out)\n",
    "print(\"MAX_LENGTH = 2\")\n",
    "for i in sentences:\n",
    "    out = backward_match(sentences[i], dictionary, 2)\n",
    "    print(out)"
   ]
  },
  {
   "cell_type": "markdown",
   "id": "25590c80",
   "metadata": {},
   "source": [
    "---------------------------------------\n",
    "### 双向最大匹配算法\n",
    "sentences = {0:'南京市长江大桥成功落建',\n",
    "1:'北京大学生前来应聘',\n",
    "2:'北京大学生喝进口红酒',\n",
    "3:'在北京大学生活区喝进口红酒',\n",
    "4:'这块地面积还真不小'\n",
    "}\n",
    "\n",
    "dictionary = [中文分词词典]\n",
    "\n",
    "选择正向还是逆向最大匹配算法的原则：\n",
    "•  大颗粒度词越多越好\n",
    "•  非词典词和单字词越少越好的原则选取\n",
    "\n",
    "<img src=\"./images/image2.png\" width=\"80%\" height=\"20%\" />\n",
    "\n",
    "**需要同学们根据上述内容自行进行规则设计，实现双向最大匹配算法中对正向还是逆向最大匹配算法的选取，根据规则设计的详尽程度评分！**\n",
    "\n",
    "**需要在代码中注释说明设计的规则！**"
   ]
  },
  {
   "cell_type": "code",
   "execution_count": 22,
   "id": "63d9784e",
   "metadata": {},
   "outputs": [
    {
     "name": "stdout",
     "output_type": "stream",
     "text": [
      "('backward', ['南京市', '长江大桥', '成功', '落', '建'])\n",
      "('back', ['南京市', '长江大桥', '成功', '落', '建'])\n",
      "('backward', ['北京', '大学生', '前来', '应聘'])\n",
      "('back', ['北京', '大学生', '前来', '应聘'])\n",
      "('backward', ['北京', '大学生', '喝', '进口', '红酒'])\n",
      "('back', ['北京', '大学生', '喝', '进口', '红酒'])\n",
      "('backward', ['在', '北京大学', '生活区', '喝', '进口', '红酒'])\n",
      "('back', ['在', '北京大学', '生活区', '喝', '进口', '红酒'])\n",
      "('backward', ['这块', '地', '面积', '还', '真', '不小'])\n",
      "('back', ['这块', '地', '面积', '还', '真', '不小'])\n",
      "('backward', ['南京市', '长江大桥', '成功', '落', '建'])\n",
      "('back', ['南京市', '长江大桥', '成功', '落', '建'])\n",
      "('backward', ['北京', '大学生', '前来', '应聘'])\n",
      "('back', ['北京', '大学生', '前来', '应聘'])\n",
      "('backward', ['北京', '大学生', '喝', '进口', '红酒'])\n",
      "('back', ['北京', '大学生', '喝', '进口', '红酒'])\n",
      "('backward', ['在', '北京大学', '生活区', '喝', '进口', '红酒'])\n",
      "('back', ['在', '北京大学', '生活区', '喝', '进口', '红酒'])\n",
      "('backward', ['这块', '地', '面积', '还', '真', '不小'])\n",
      "('back', ['这块', '地', '面积', '还', '真', '不小'])\n",
      "('backward', ['南京市', '长江', '大桥', '成功', '落', '建'])\n",
      "('back', ['南京市', '长江', '大桥', '成功', '落', '建'])\n",
      "('backward', ['北京', '大学生', '前来', '应聘'])\n",
      "('back', ['北京', '大学生', '前来', '应聘'])\n",
      "('backward', ['北京', '大学生', '喝', '进口', '红酒'])\n",
      "('back', ['北京', '大学生', '喝', '进口', '红酒'])\n",
      "('backward', ['在', '北京', '大学', '生活区', '喝', '进口', '红酒'])\n",
      "('back', ['在', '北京', '大学', '生活区', '喝', '进口', '红酒'])\n",
      "('backward', ['这块', '地', '面积', '还', '真', '不小'])\n",
      "('back', ['这块', '地', '面积', '还', '真', '不小'])\n",
      "('backward', ['南京', '市', '长江', '大桥', '成功', '落', '建'])\n",
      "('back', ['南京', '市', '长江', '大桥', '成功', '落', '建'])\n",
      "('backward', ['北京', '大', '学生', '前来', '应聘'])\n",
      "('back', ['北京', '大', '学生', '前来', '应聘'])\n",
      "('backward', ['北京', '大', '学生', '喝', '进口', '红酒'])\n",
      "('back', ['北京', '大', '学生', '喝', '进口', '红酒'])\n",
      "('backward', ['在', '北京', '大学', '生活', '区', '喝', '进口', '红酒'])\n",
      "('back', ['在', '北京', '大学', '生活', '区', '喝', '进口', '红酒'])\n",
      "('backward', ['这块', '地', '面积', '还', '真', '不小'])\n",
      "('back', ['这块', '地', '面积', '还', '真', '不小'])\n"
     ]
    }
   ],
   "source": [
    "from numpy import single\n",
    "\n",
    "\n",
    "sentences = {0:'南京市长江大桥成功落建',\n",
    "1:'北京大学生前来应聘',\n",
    "2:'北京大学生喝进口红酒',\n",
    "3:'在北京大学生活区喝进口红酒',\n",
    "4:'这块地面积还真不小'}\n",
    "\n",
    "dictionary = []\n",
    "dict_file = open('./dict/dict.txt.small', 'r', encoding='utf-8')\n",
    "for line in dict_file.readlines():\n",
    "    line=line.strip('\\n')\n",
    "    dictionary.append(line)\n",
    "\n",
    "MAX_LENGTH = 5  # 定义单词最大长度,可自由尝试不同长度单词匹配\n",
    "\n",
    "\n",
    "\n",
    "def bidir_match_1(st, dic, max_len):\n",
    "    fm = forward_match(st, dic, max_len)\n",
    "    bm = backward_match(st, dic, max_len)\n",
    "\n",
    "    lenf = len(fm)                              # 分词数量\n",
    "    lenb = len(bm)\n",
    "    singlef = sum(1 for i in fm if len(i) == 1) # 单字数量\n",
    "    singleb = sum(1 for i in bm if len(i) == 1)\n",
    "    bigf = sum(len(i)** 1.2 for i in fm)           # 高颗粒度词 给1.2次幂避免权重过大\n",
    "    bigb = sum(len(i)** 1.2 for i in bm)            \n",
    "\n",
    "    evaluation_f = bigf - 3 * (lenf + singlef)        # 高颗粒度 - 分词 - 单字作为输出指标\n",
    "    evaluation_b = bigb - 3 * (lenb + singleb)\n",
    "    if evaluation_f > evaluation_b:\n",
    "        return \"forward\",fm\n",
    "    else:\n",
    "        return \"backward\",bm\n",
    "\n",
    "\n",
    "# 也可以不依靠权重，直接嵌套if else\n",
    "def bidir_match_2(st, dic, max_len):\n",
    "    fm = forward_match(st, dic, max_len)\n",
    "    bm = backward_match(st, dic, max_len)\n",
    "\n",
    "    lenf = len(fm)                              # 分词数量\n",
    "    lenb = len(bm)\n",
    "\n",
    "    if lenf > lenb:\n",
    "        return \"back\", bm\n",
    "    elif lenf < lenb:\n",
    "        return \"forward\",fm\n",
    "    else:\n",
    "        # 分词数量一致，比较单字符数\n",
    "        singlef = sum(1 for i in fm if len(i) == 1) # 单字数量\n",
    "        singleb = sum(1 for i in bm if len(i) == 1)\n",
    "        if singlef < singleb:\n",
    "            return \"forward\", fm\n",
    "        elif singlef > singleb:\n",
    "            return \"back\",bm\n",
    "        else:\n",
    "            bigf = sum(len(i)** 2 for i in fm)       \n",
    "            bigb = sum(len(i)** 2 for i in bm)    \n",
    "            if bigf > bigb: #返回颗粒度大的\n",
    "                return \"for\",fm    \n",
    "            else:\n",
    "                return \"back\",bm\n",
    "\n",
    "for i in sentences:\n",
    "    out = bidir_match_1(sentences[i], dictionary, MAX_LENGTH)\n",
    "    print(out)\n",
    "    out = bidir_match_2(sentences[i], dictionary, MAX_LENGTH)\n",
    "    print(out)\n",
    "for i in sentences:\n",
    "    out = bidir_match_1(sentences[i], dictionary, 4)\n",
    "    print(out)\n",
    "    out = bidir_match_2(sentences[i], dictionary, 4)\n",
    "    print(out)\n",
    "for i in sentences:\n",
    "    out = bidir_match_1(sentences[i], dictionary, 3)\n",
    "    print(out)\n",
    "    out = bidir_match_2(sentences[i], dictionary, 3)\n",
    "    print(out)\n",
    "for i in sentences:\n",
    "    out = bidir_match_1(sentences[i], dictionary, 2)\n",
    "    print(out)\n",
    "    out = bidir_match_2(sentences[i], dictionary, 2)\n",
    "    print(out)\n",
    "\n",
    "# 测试后发现上面的句子全都是Backward比较高效"
   ]
  },
  {
   "cell_type": "markdown",
   "id": "1f41178b",
   "metadata": {},
   "source": [
    "--------------------------------------------\n",
    "### jieba分词使用尝试\n",
    "对sentences字典内每一句话尝试结巴分词的全模式，精确模式，新词模式和搜索引擎模式。\n",
    "\n",
    "-----------------------------------------"
   ]
  },
  {
   "cell_type": "code",
   "execution_count": 19,
   "id": "9c6a49b4",
   "metadata": {},
   "outputs": [
    {
     "name": "stderr",
     "output_type": "stream",
     "text": [
      "Building prefix dict from the default dictionary ...\n",
      "Loading model from cache C:\\Users\\lx\\AppData\\Local\\Temp\\jieba.cache\n",
      "Loading model cost 0.410 seconds.\n",
      "Prefix dict has been built successfully.\n"
     ]
    },
    {
     "name": "stdout",
     "output_type": "stream",
     "text": [
      "Streamlining: 没有 什么 比 时间 更 具有 说服力 了 ， 因为 时间 无需 通知 我们 就 可以 改变 一切 。\n",
      "Full: 没有 什么 比 时间 更具 具有 说服 说服力 了 ， 因为 时间 无需 通知 我们 就 可以 改变 一切 。\n",
      "Search engine:  没有 什么 比 时间 更 具有 说服 说服力 了 ， 因为 时间 无需 通知 我们 就 可以 改变 一切 。\n",
      "\n",
      "Streamlining: 检验 一个 人 的 标准 ， 就是 看 他 把 时间 放在 了 哪儿 。 别 自欺欺人 ； 当 生命 走 到 尽头 ， 只有 时间 不会 撒谎 。\n",
      "Full: 检验 一个 个人 的 标准 ， 就是 看 他 把 时间 放在 了 哪儿 。 别 自欺 自欺欺人 ； 当 生命 走到 尽头 ， 只有 有时 时间 不会 撒谎 。\n",
      "Search engine:  检验 一个 人 的 标准 ， 就是 看 他 把 时间 放在 了 哪儿 。 别 自欺 自欺欺人 ； 当 生命 走 到 尽头 ， 只有 时间 不会 撒谎 。\n",
      "\n",
      "Streamlining: 近年来 ， 卷积 神经网络 因 其 优异 的 性能 ， 在 计算机 视觉 、 自然语言 处理 等 各个领域 受到 了 研究者 们 的 青睐\n",
      "Full: 近年 近年来 年来 ， 卷积 神经 神经网 神经网络 网络 因其 优异 的 性能 ， 在 计算 计算机 算机 视觉 、 自然 自然语言 语言 处理 等 各个 各个领域 领域 受到 了 研究 研究者 们 的 青睐\n",
      "Search engine:  近年 年来 近年来 ， 卷积 神经 网络 神经网 神经网络 因 其 优异 的 性能 ， 在 计算 算机 计算机 视觉 、 自然 语言 自然语言 处理 等 各个 领域 各个领域 受到 了 研究 研究者 们 的 青睐\n",
      "\n",
      "Streamlining: 来自 北京大学 、 东方 理工 、 南方 科技 大学 和 鹏城 实验室 等 机构 的 研究 团队 提出 了 一种 语义 可 解释 人工智能 的 研究 框架 ， 该 框架 从 语义 层面 解释 了 卷积 神经网络 的 学习 机制 。\n",
      "Full: 来自 北京 北京大学 大学 、 东方 方理 理工 、 南方 科技 大学 和 鹏城 实验 实验室 等 机构 的 研究 团队 提出 了 一种 语义 可 解释 人工 人工智能 智能 的 研究 框架 ， 该 框架 从 语义 层面 解释 了 卷积 神经 神经网 神经网络 网络 的 学习 学习机 机制 。\n",
      "Search engine:  来自 北京 大学 北京大学 、 东方 理工 、 南方 科技 大学 和 鹏城 实验 实验室 等 机构 的 研究 团队 提出 了 一种 语义 可 解释 人工 智能 人工智能 的 研究 框架 ， 该 框架 从 语义 层面 解释 了 卷积 神经 网络 神经网 神经网络 的 学习 机制 。\n",
      "\n"
     ]
    }
   ],
   "source": [
    "import jieba\n",
    "sentences = {\n",
    "    0:'没有什么比时间更具有说服力了，因为时间无需通知我们就可以改变一切。',\n",
    "    1:'检验一个人的标准，就是看他把时间放在了哪儿。别自欺欺人；当生命走到尽头，只有时间不会撒谎。',\n",
    "    2:'近年来，卷积神经网络因其优异的性能，在计算机视觉、自然语言处理等各个领域受到了研究者们的青睐',\n",
    "    3:'来自北京大学、东方理工、南方科技大学和鹏城实验室等机构的研究团队提出了一种语义可解释人工智能的研究框架，该框架从语义层面解释了卷积神经网络的学习机制。'\n",
    "}\n",
    "\n",
    "for i in sentences:\n",
    "    print(\"Streamlining:\", ' '.join(jieba.cut(sentences[i])))\n",
    "    print(\"Full:\", ' '.join(jieba.cut(sentences[i], cut_all = True)))\n",
    "    print(\"Search engine: \", \" \".join(jieba.lcut_for_search(sentences[i]) ))\n",
    "    print()\n",
    "    "
   ]
  },
  {
   "cell_type": "code",
   "execution_count": 1,
   "id": "e0e97e8f",
   "metadata": {},
   "outputs": [
    {
     "name": "stdout",
     "output_type": "stream",
     "text": [
      "[[0 0 0 1 1 0 0 0 0 1 0 0 0 0 0 0 0 1 0 0 1 0 0 0 0 0 0 0 0 0 1 1]\n",
      " [1 0 0 1 0 1 1 0 1 0 0 0 1 0 0 1 0 0 1 0 0 0 0 0 0 0 0 0 0 0 0 0]\n",
      " [0 1 1 0 0 0 0 0 0 0 0 0 0 1 0 0 0 0 1 0 0 1 0 0 0 1 0 1 0 0 1 0]\n",
      " [0 0 0 0 0 0 0 0 1 0 1 0 0 0 0 0 0 0 0 1 0 0 0 1 0 0 1 0 0 0 0 0]\n",
      " [0 0 0 0 0 0 0 1 0 0 0 1 1 0 1 0 0 0 1 1 0 0 0 0 1 0 0 0 1 0 1 0]\n",
      " [0 0 0 1 0 0 0 0 1 0 0 0 0 0 0 0 1 0 0 0 0 0 1 1 0 0 0 0 0 1 0 0]] matrix\n",
      "[1. 2. 2. 2. 2. 1. 1. 2. 1. 2. 1. 2. 2. 2. 2. 1. 1. 2. 3. 2. 2. 2. 1. 1.\n",
      " 2. 2. 1. 2. 2. 1. 4. 2.] 26 \n",
      "\n",
      " [2. 1. 1. 3. 1. 2. 2. 1. 4. 1. 2. 1. 2. 1. 1. 2. 2. 1. 2. 2. 1. 1. 2. 3.\n",
      " 1. 1. 2. 1. 1. 2. 1. 1.] 21\n",
      "['love', 'my', 'dalmation'] classified as:  0\n",
      "['stupid', 'garbage'] classified as:  1\n"
     ]
    }
   ],
   "source": [
    "# _*_ coding:utf-8 _*_\n",
    "from numpy import *\n",
    "import re\n",
    "import random\n",
    "\n",
    "def loadDataSet(): #创建样例数据\n",
    "    postingList = [['my', 'dog', 'has', 'flea', 'problems', 'help', 'please'],\n",
    "                   ['maybe', 'not', 'take', 'him', 'to', 'dog', 'park', 'stupid'],\n",
    "                   ['my', 'dalmation', 'is', 'so', 'cute', 'I', 'love', 'him'],\n",
    "                   ['stop', 'posting', 'stupid', 'worthless', 'garbage'],\n",
    "                   ['mr', 'licks', 'ate', 'my', 'steak', 'how', 'to', 'stop', 'him'],\n",
    "                   ['quit', 'buying', 'worthless', 'dog', 'food', 'stupid']]\n",
    "    classVec = [0, 1, 0, 1, 0, 1]  #1代表脏话\n",
    "    return postingList, classVec\n",
    "\n",
    "def createVocabList(dataSet):  #创建词库 这里就是直接把所有词去重后，当作词库\n",
    "    vocabSet = set([])\n",
    "    for document in dataSet:\n",
    "        vocabSet = vocabSet | set(document)\n",
    "        # print(document, \" ?\")\n",
    "    return list(vocabSet)\n",
    "\n",
    "def setOfWords2Vec(vocabList, inputSet):  #文本词向量。词库中每个词当作一个特征，文本中就该词，该词特征就是1，没有就是0\n",
    "    returnVec = [0] * len(vocabList)\n",
    "    for word in inputSet:\n",
    "        if word in vocabList:\n",
    "            returnVec[vocabList.index(word)] = 1\n",
    "            # print(vocabList.index(word), word)\n",
    "        else:\n",
    "            print(\"the word: %s is not in my Vocabulary!\" % word)\n",
    "    return returnVec\n",
    "\n",
    "\n",
    "def trainNB0(trainMatrix, trainCategory):\n",
    "    print(trainMatrix ,\"matrix\")\n",
    "    numTrainDocs = len(trainMatrix)\n",
    "    numWords = len(trainMatrix[0])\n",
    "    pAbusive = sum(trainCategory) / float(numTrainDocs)\n",
    "    p0Num = ones(numWords) #防止某个类别计算出的概率为0，导致最后相乘都为0，所以初始词都赋值1，分母赋值为2.\n",
    "    p1Num = ones(numWords)\n",
    "    p0Denom = 2\n",
    "    p1Denom = 2\n",
    "    for i in range(numTrainDocs):\n",
    "        if trainCategory[i] == 1:\n",
    "            p1Num += trainMatrix[i]\n",
    "            p1Denom += sum(trainMatrix[i])\n",
    "        else:\n",
    "            p0Num += trainMatrix[i]\n",
    "            p0Denom += sum(trainMatrix[i])\n",
    "    p1Vect = log(p1Num / p1Denom)  #这里使用了Log函数，方便计算，因为最后是比较大小，所有对结果没有影响。\n",
    "    p0Vect = log(p0Num / p0Denom)\n",
    "    print(p0Num,p0Denom,'\\n\\n',p1Num, p1Denom)\n",
    "    return p0Vect, p1Vect, pAbusive\n",
    "\n",
    "def classifyNB(vec2Classify,p0Vec,p1Vec,pClass1): #比较概率大小进行判断，\n",
    "    p1 = sum(vec2Classify*p1Vec)+log(pClass1)\n",
    "    p0 = sum(vec2Classify*p0Vec)+log(1-pClass1)\n",
    "    if p1>p0:\n",
    "        return 1\n",
    "    else:\n",
    "        return 0\n",
    "\n",
    "def testingNB():\n",
    "    listOPosts,listClasses = loadDataSet()#创建样例数据\n",
    "    myVocabList = createVocabList(listOPosts)\n",
    "    #创建词库 这里就是直接把所有词去重后，当作词库\n",
    "    trainMat=[]\n",
    "    for postinDoc in listOPosts:\n",
    "        trainMat.append(setOfWords2Vec(myVocabList, postinDoc))\n",
    "    # for i in trainMat:\n",
    "    #     print(sum(i))\n",
    "\n",
    "    p0V,p1V,pAb = trainNB0(array(trainMat),array(listClasses))\n",
    "    testEntry = ['love', 'my', 'dalmation'] # 测试数据\n",
    "    thisDoc = array(setOfWords2Vec(myVocabList, testEntry))\n",
    "    print(testEntry,'classified as: ',classifyNB(thisDoc,p0V,p1V,pAb))\n",
    "    testEntry = ['stupid', 'garbage'] # 测试数据\n",
    "    thisDoc = array(setOfWords2Vec(myVocabList, testEntry))\n",
    "    print(testEntry,'classified as: ',classifyNB(thisDoc,p0V,p1V,pAb))\n",
    "\n",
    "if __name__=='__main__':\n",
    "    testingNB()"
   ]
  }
 ],
 "metadata": {
  "kernelspec": {
   "display_name": "Python 3.9.13 ('base')",
   "language": "python",
   "name": "python3"
  },
  "language_info": {
   "codemirror_mode": {
    "name": "ipython",
    "version": 3
   },
   "file_extension": ".py",
   "mimetype": "text/x-python",
   "name": "python",
   "nbconvert_exporter": "python",
   "pygments_lexer": "ipython3",
   "version": "3.9.13"
  },
  "vscode": {
   "interpreter": {
    "hash": "791247fb521540597af39f056ceea46f7c8e63b647df86a24ca667b2f375eaad"
   }
  }
 },
 "nbformat": 4,
 "nbformat_minor": 5
}
