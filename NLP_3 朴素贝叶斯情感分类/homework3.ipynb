{
 "cells": [
  {
   "attachments": {},
   "cell_type": "markdown",
   "metadata": {},
   "source": [
    "\n",
    "**任务描述：** \n",
    ">利用nltk语料库中的影评来进行朴素贝叶斯情感分类训练。\n",
    "\n",
    "**影评导入：** \n",
    ">from nltk.corpus import movie_reviews  \n",
    ">文件具体目录在…\\nltk_data\\corpora\\movie_reviews，已做好分类标注，消极与积极影评各1000 条。\n",
    "\n",
    "**步骤：** \n",
    ">经过文本预处理（去噪、分句、分词、去停词、取词干、修剪）和特征选择，生成特\n",
    "征词表，之后利用朴素贝叶斯模型进行训练。（每个步骤最好注释一下）\n",
    "选择前 80%（即前 800 条消极影评与前 800 条积极影评）作为训练集，后 20%作为测试集。\n",
    "\n",
    "**输出：** \n",
    ">准确率 Accuracy，精确率 Precision，召回率 Recall 和 F1 值，精确到小数点后两位。  \n",
    "其中，F1 = ( 2 * Precision * Recall ) / ( Precision + Recall)。\n",
    "\n",
    "**例如：**  \n",
    ">Accuracy = 0.98  \n",
    "Precision = 0.67  \n",
    "Recall = 0.32  \n",
    "F1 = 0.43\n",
    "\n",
    "***"
   ]
  },
  {
   "cell_type": "markdown",
   "metadata": {},
   "source": [
    "#### 第一步 读入数据"
   ]
  },
  {
   "cell_type": "code",
   "execution_count": 3,
   "metadata": {},
   "outputs": [
    {
     "name": "stdout",
     "output_type": "stream",
     "text": [
      "1583820\n"
     ]
    }
   ],
   "source": [
    "from nltk.corpus import movie_reviews\n",
    "\n",
    "all_words = movie_reviews.words()\n",
    "#for i in range(len(all_words)):\n",
    " #   print(i, all_words[i])\n",
    "print(len(all_words))"
   ]
  },
  {
   "cell_type": "markdown",
   "metadata": {},
   "source": [
    "***\n",
    "#### 第二步 文本预处理（参考作业二）\n",
    " 标准化，即全部小写、去标点、去停用词，并提取词干or词形还原。"
   ]
  },
  {
   "cell_type": "code",
   "execution_count": 2,
   "metadata": {},
   "outputs": [
    {
     "name": "stdout",
     "output_type": "stream",
     "text": [
      "\n",
      "\n",
      " 708455\n"
     ]
    }
   ],
   "source": [
    "import re\n",
    "import string\n",
    "from nltk.stem.porter import PorterStemmer\n",
    "from nltk.corpus import stopwords\n",
    "\n",
    "def prepro(token):\n",
    "    normalisation = []\n",
    "    \n",
    "    #转为小写 sub函数顺便把标点也去掉了，代码参考本人提交的homework2\n",
    "    pattern=re.compile(\"[^a-zA-Z0-9\\n ]\")\n",
    "    f = open('norm.txt', 'w')\n",
    "    for i in range(len(token)): #读出单个字符串\n",
    "        temp = re.sub(pattern, \"\", token[i]).lower()\n",
    "        if(temp not in stopwords.words('english')\\\n",
    "            and temp != ''):\n",
    "            # print(i, temp)\n",
    "            normalisation.append(temp)\n",
    "            f.write(temp+'\\n')\n",
    "    #消标点 -- 标准化的时候已经处理好这些东西了\n",
    "    #处理停用词\n",
    "    f.close()# 读进文件免得跑一次7分钟太久\n",
    "    return normalisation\n",
    "\n",
    "pro_words = prepro(all_words)\n",
    "# print(pro_words)\n",
    "\n",
    "\n",
    "print(\"\\n\\n\",len(pro_words))"
   ]
  },
  {
   "cell_type": "code",
   "execution_count": 6,
   "metadata": {},
   "outputs": [
    {
     "name": "stdout",
     "output_type": "stream",
     "text": [
      "plot\n"
     ]
    }
   ],
   "source": [
    "\n",
    "\n",
    "print(pro_words[0])"
   ]
  },
  {
   "cell_type": "markdown",
   "metadata": {},
   "source": [
    "## 词干提取，词形还原从上文的函数拆开放入到下面的函数"
   ]
  },
  {
   "cell_type": "code",
   "execution_count": 5,
   "metadata": {},
   "outputs": [
    {
     "name": "stdout",
     "output_type": "stream",
     "text": [
      "708455   708455   708455\n"
     ]
    }
   ],
   "source": [
    "from nltk.stem.porter import PorterStemmer\n",
    "\n",
    "def prepro_ps(token):\n",
    "    PS = [] #词干提取\n",
    "    f = open(\"PS.txt\", 'w')\n",
    "    stemmer = PorterStemmer()\n",
    "    for i in range(len(token)):\n",
    "        ste = stemmer.stem(token[i])\n",
    "        PS.append(ste)\n",
    "        f.write(ste + '\\n')\n",
    "    f.close()\n",
    "    return PS\n",
    "\n",
    "from nltk.stem import WordNetLemmatizer\n",
    "def prepro_wnln(token):\n",
    "    WNL_N = [] #词形还原n\n",
    "    f = open(\"WNLN.txt\", 'w')\n",
    "    lem = WordNetLemmatizer()\n",
    "    for i in token:\n",
    "        nlem = lem.lemmatize(i, pos = 'n')\n",
    "        WNL_N.append(nlem)\n",
    "        f.write(nlem + '\\n')\n",
    "    f.close()\n",
    "    return WNL_N\n",
    "\n",
    "def prepro_wnlv(token):\n",
    "    WNL_V = [] #词形还原v\n",
    "    f = open(\"WNLV.txt\", 'w')\n",
    "    lem = WordNetLemmatizer()\n",
    "    for i in token:\n",
    "        vlem = lem.lemmatize(i, pos = 'v')\n",
    "        WNL_V.append(vlem)\n",
    "        f.write(vlem + '\\n')\n",
    "    f.close()\n",
    "    return WNL_V\n",
    "\n",
    "\n",
    "\n",
    "\n",
    "# PS = prepro_ps(pro_words)\n",
    "# WLNN = prepro_wnln(pro_words)\n",
    "# WLNV = prepro_wnlv(pro_words)\n",
    "\n",
    "PS = []\n",
    "WLNN = []\n",
    "WLNV = []\n",
    "with  open('PS.txt', 'r') as input_file:\n",
    "    while True:\n",
    "        line = input_file.readline()\n",
    "        if not line: \n",
    "            break\n",
    "        PS.append(line.rstrip())\n",
    "with  open('WNLN.txt', 'r') as input_file:\n",
    "    while True:\n",
    "        line = input_file.readline()\n",
    "        if not line: \n",
    "            break\n",
    "        WLNN.append(line.rstrip())\n",
    "with  open('WNLV.txt', 'r') as input_file:\n",
    "    while True:\n",
    "        line = input_file.readline()\n",
    "        if not line: \n",
    "            break\n",
    "        WLNV.append(line.rstrip())\n",
    "\n",
    "\n",
    "print(len(PS),\" \", len(WLNN),\" \", len(WLNV))"
   ]
  },
  {
   "cell_type": "code",
   "execution_count": 6,
   "metadata": {},
   "outputs": [
    {
     "name": "stdout",
     "output_type": "stream",
     "text": [
      "708455\n",
      "708455   708455   708455\n"
     ]
    }
   ],
   "source": [
    "# 快速获得 PS WLN\n",
    "# 避免每次运行都需要7分钟\n",
    "test = []\n",
    "with  open('norm.txt', 'r') as input_file:\n",
    "    while True:\n",
    "        line = input_file.readline()\n",
    "        if not line: \n",
    "            break\n",
    "        test.append(line.rstrip())\n",
    "        #print(line)\n",
    "print(len(test))\n",
    "\n",
    "PS = prepro_ps(test)\n",
    "WLNN = prepro_wnln(test)\n",
    "WLNV = prepro_wnlv(test)\n",
    "print(len(PS),\" \", len(WLNN),\" \", len(WLNV))"
   ]
  },
  {
   "cell_type": "markdown",
   "metadata": {},
   "source": [
    "***\n",
    "#### 第三步 特征选择"
   ]
  },
  {
   "cell_type": "code",
   "execution_count": 7,
   "metadata": {},
   "outputs": [],
   "source": [
    "import nltk\n",
    "\n",
    "# 特征选择，取词频前5%或前2000个词。\n",
    "\n",
    "pro_words = PS.copy()\n",
    "#pro_words = WLNN.copy()\n",
    "#pro_words = WLNV.copy()\n",
    "\n",
    "\n",
    "freq_words = nltk.FreqDist(pro_words)\n",
    "n = int( 0.05 * len(freq_words.keys() ))\n",
    "workds_features_5per = list(freq_words.keys())[:n]\n",
    "workds_features_2000 = list(freq_words.keys())[:2000]"
   ]
  },
  {
   "cell_type": "markdown",
   "metadata": {},
   "source": [
    "***\n",
    "#### 第四步 生成词表"
   ]
  },
  {
   "cell_type": "code",
   "execution_count": 8,
   "metadata": {},
   "outputs": [],
   "source": [
    "def doc_features(doc):\n",
    "    # 去重复\n",
    "    doc_words = set(doc) \n",
    "    features = {}\n",
    "    for word in workds_features_5per:\n",
    "        # word 在不在总此表中 向量化\n",
    "        features['contains(%s)' % word] = (word in doc_words)\n",
    "        #看标注集的单词是否在这个句子里面\n",
    "        #5per单词都拿出来看看这个句子里面有没有出现对应的这些词\n",
    "    return features\n",
    "\n",
    "documents = [(list(movie_reviews.words(fileid)),category)\n",
    "            for category in movie_reviews.categories()  # 类别\n",
    "            for fileid in movie_reviews.fileids(category)] # 文件名\n",
    "# for i in documents:\n",
    "#     for j in i:\n",
    "#         print(j, '')\n",
    "#     print()\n",
    "# documents是一个列表，里面存的是大小为2的元组\n",
    "# 元组的0位置是一个元组，存了若干个单词；1位置表示消极积极\n",
    "featuresets = [(doc_features(d),c) for (d,c) in documents]\n",
    "\n",
    "# for i in featuresets:\n",
    "#     for j in i:\n",
    "#         print(j, '')\n",
    "#     print()\n",
    "\n",
    "#featuresets吧本来的docments的前半部分转换为去重的部分\n",
    "    # featureset有多个“句子”\n",
    "    # 句子里面的单词都被标注了是neg还是pos\n",
    "    # 于是统计句子里面的单词是否都出现在workds_features_5per中\n",
    "## 去重并向量化\n"
   ]
  },
  {
   "cell_type": "code",
   "execution_count": 12,
   "metadata": {},
   "outputs": [
    {
     "name": "stdout",
     "output_type": "stream",
     "text": [
      "2000\n"
     ]
    }
   ],
   "source": [
    "#print(documents[0])\n",
    "print(len(featuresets))\n",
    "# for i in range(len(featuresets)):\n",
    "#     print(len(featuresets[i]))"
   ]
  },
  {
   "cell_type": "markdown",
   "metadata": {},
   "source": [
    "***\n",
    "#### 第五步 划分数据集"
   ]
  },
  {
   "cell_type": "code",
   "execution_count": 9,
   "metadata": {},
   "outputs": [
    {
     "name": "stdout",
     "output_type": "stream",
     "text": [
      "1290 <class 'dict'>\n",
      "3 <class 'str'>\n",
      "2 <class 'tuple'>\n",
      "1600 <class 'list'>\n"
     ]
    }
   ],
   "source": [
    "train_set = featuresets[0:800] + featuresets[1000:1800]\n",
    "test_set = featuresets[800:1000] + featuresets[1800:2000]\n",
    "\n",
    "\n",
    "\n",
    "print(len(train_set[0][0]), type(train_set[0][0]))\n",
    "print(len(train_set[0][1]), type(train_set[0][1]))\n",
    "# print(len(train_set[0][1]))\n",
    "print(len(train_set[0]), type(train_set[0]))\n",
    "print(len(train_set), type(train_set))\n",
    "\n"
   ]
  },
  {
   "cell_type": "markdown",
   "metadata": {},
   "source": [
    "***\n",
    "#### 第六步 模型训练"
   ]
  },
  {
   "cell_type": "code",
   "execution_count": 27,
   "metadata": {},
   "outputs": [],
   "source": [
    "# 自己实现\n",
    "import numpy as np\n",
    "#首先先把数据转换成numpy，方便后续运算\n",
    "\n",
    "# trainset[0][0]是一个dict\n",
    "    # transet[0][0] key 是1290个次\n",
    "    # transet[0][0] values 是 1290次是否存在在句子里面\n",
    "    # transet[0][1] 是句子的感情\n",
    "    # transet[0] 就是 [0]和[1]的tuple\n",
    "    # trainset 存1600个tuple\n",
    "\n",
    "#trainsets吧本来的docments的前半部分转换为去重的部分\n",
    "    # trainset有多个“句子”\n",
    "    # 句子里面的单词都被标注了是neg还是pos\n",
    "    # 于是统计句子里面的单词是否都出现在workds_features_5per中\n",
    "def train_plain_bayes(train_set):\n",
    "    num_of_sen = len(train_set)\n",
    "    num_of_words = len(train_set[0][0])\n",
    "    \n",
    "    sum_of_cato = 0\n",
    "    for i in train_set:\n",
    "        if i[1] == 'pos':\n",
    "            sum_of_cato += 1 #统计有多少个pos句子\n",
    "    pAbusive = sum_of_cato * 1.0 / num_of_sen\n",
    "\n",
    "    posNum = np.ones(num_of_words)#设为1避免单词未出现导致出现log0的情况\n",
    "    negNum = np.ones(num_of_words)\n",
    "    posDeno = 1.0\n",
    "    negDeno = 1.0\n",
    "    for i in range(num_of_sen): #分类\n",
    "        tempList = list(train_set[i][0].values())\n",
    "        if (train_set[i][1] == 'pos'): \n",
    "            #如果句子是积极的，对应的1290个单词都得累加\n",
    "            tempDeno = 0\n",
    "            for j in range(len(tempList)):\n",
    "                posNum[j] += tempList[j] # 积极语句哪些单词出现的多？\n",
    "                tempDeno += tempList[j]\n",
    "            posDeno += tempDeno #积极语句出现的词频\n",
    "        elif(train_set[i][1] == 'neg'): \n",
    "            tempDeno = 0\n",
    "            for j in range(len(tempList)):\n",
    "                negNum[j] += tempList[j]\n",
    "                tempDeno += tempList[j]\n",
    "            negDeno += tempDeno\n",
    "    # print(type(posNum))\n",
    "    posVec = np.log(posNum / posDeno)\n",
    "    negVec = np.log(negNum / negDeno)\n",
    "    return posVec, negVec, pAbusive\n",
    "\n",
    "#测试集处理转化为numpy\n",
    "def test_plain_bayes(test_set):\n",
    "    num_of_sen = len(test_set)\n",
    "    num_of_words = len(test_set[0][0])\n",
    "    mid_data = []\n",
    "\n",
    "    for i in range(num_of_sen):\n",
    "        Num = np.zeros(num_of_words) # 测试集设为0而非1\n",
    "        tempList = list(test_set[i][0].values())\n",
    "        for j in range(num_of_words):\n",
    "            Num[j] += tempList[j]\n",
    "        mid_data.append(Num)\n",
    "    return mid_data\n",
    "\n",
    "# 分类器\n",
    "def classify_plain_bayes(arr, posVec, negVec, pAbusive):\n",
    "    pos = sum(arr * posVec) + np.log(pAbusive)\n",
    "    neg = sum(arr * negVec) + np.log(pAbusive)\n",
    "    if pos > neg:\n",
    "        return \"pos\"\n",
    "    else:\n",
    "        return \"neg\"\n",
    "\n",
    "\n",
    "\n"
   ]
  },
  {
   "cell_type": "code",
   "execution_count": 22,
   "metadata": {},
   "outputs": [],
   "source": [
    "# 修改一下前文的细节看看实现效果是否有出入\n",
    "# 吧POSNUM和NEGNUM数据调小一点测试，发现与实际出入不大\n",
    "import numpy as np\n",
    "\n",
    "\n",
    "def train_plain_bayes(train_set):\n",
    "    num_of_sen = len(train_set)\n",
    "    num_of_words = len(train_set[0][0])\n",
    "    \n",
    "    sum_of_cato = 0\n",
    "    for i in train_set:\n",
    "        if i[1] == 'pos':\n",
    "            sum_of_cato += 1 #统计有多少个pos句子\n",
    "    pAbusive = sum_of_cato * 1.0 / num_of_sen\n",
    "#这里不设1，设为0看看结果\n",
    "    posNum = np.zeros(num_of_words)\n",
    "    \n",
    "    negNum = np.zeros(num_of_words)\n",
    "    for i in range(len(posNum)):\n",
    "        posNum[i] = 0.01\n",
    "        negNum[i] = 0.01\n",
    "    posDeno = 1.0\n",
    "    negDeno = 1.0\n",
    "    for i in range(num_of_sen): #分类\n",
    "        tempList = list(train_set[i][0].values())\n",
    "        if (train_set[i][1] == 'pos'): \n",
    "            #如果句子是积极的，对应的1290个单词都得累加\n",
    "            tempDeno = 0\n",
    "            for j in range(len(tempList)):\n",
    "                posNum[j] += tempList[j] # 积极语句哪些单词出现的多？\n",
    "                tempDeno += tempList[j]\n",
    "            posDeno += tempDeno #积极语句出现的词频\n",
    "        elif(train_set[i][1] == 'neg'): \n",
    "            tempDeno = 0\n",
    "            for j in range(len(tempList)):\n",
    "                negNum[j] += tempList[j]\n",
    "                tempDeno += tempList[j]\n",
    "            negDeno += tempDeno\n",
    "    # print(type(posNum))\n",
    "    posVec = np.log(posNum / posDeno)\n",
    "    negVec = np.log(negNum / negDeno)\n",
    "    return posVec, negVec, pAbusive\n",
    "\n",
    "#测试集处理转化为numpy\n",
    "def test_plain_bayes(test_set):\n",
    "    num_of_sen = len(test_set)\n",
    "    num_of_words = len(test_set[0][0])\n",
    "    mid_data = []\n",
    "\n",
    "    for i in range(num_of_sen):\n",
    "        Num = np.zeros(num_of_words) # 测试集设为0而非1\n",
    "        tempList = list(test_set[i][0].values())\n",
    "        for j in range(num_of_words):\n",
    "            Num[j] += tempList[j]\n",
    "        mid_data.append(Num)\n",
    "    return mid_data\n",
    "\n",
    "# 分类器\n",
    "def classify_plain_bayes(arr, posVec, negVec, pAbusive):\n",
    "    pos = sum(arr * posVec) + np.log(pAbusive)\n",
    "    neg = sum(arr * negVec) + np.log(pAbusive)\n",
    "    if pos > neg:\n",
    "        return \"pos\"\n",
    "    else:\n",
    "        return \"neg\"\n",
    "\n",
    "\n",
    "\n"
   ]
  },
  {
   "cell_type": "code",
   "execution_count": 23,
   "metadata": {},
   "outputs": [
    {
     "name": "stdout",
     "output_type": "stream",
     "text": [
      "[ -5.23210975  -4.90505849  -7.23863837 ... -15.5576245   -7.81652541\n",
      "  -9.56366307]\n",
      "[ -4.92811682  -4.89437949  -7.08904816 ... -15.54457869  -7.8034796\n",
      "  -8.74107343]\n",
      "0.5\n"
     ]
    }
   ],
   "source": [
    "# 测试\n",
    "\n",
    "posV, negV, ab = train_plain_bayes(train_set = train_set)\n",
    "print(posV), print(negV), print(ab)\n",
    "TS = test_plain_bayes(test_set = test_set)\n",
    "\n",
    "prediction = []\n",
    "for i in range(len(TS)):\n",
    "    temp = classify_plain_bayes(TS[i], posV, negV, ab)\n",
    "    #print(i, temp)\n",
    "    prediction.append(temp)\n",
    "# print(prediction)\n",
    "# print(TS)"
   ]
  },
  {
   "cell_type": "markdown",
   "metadata": {},
   "source": [
    "***\n",
    "#### 第七步 模型评估"
   ]
  },
  {
   "cell_type": "code",
   "execution_count": 24,
   "metadata": {},
   "outputs": [
    {
     "name": "stdout",
     "output_type": "stream",
     "text": [
      "{'TN': 150.0, 'FN': 53.0, 'FP': 50.0, 'TP': 147.0}\n",
      "[('pre', 0.494949494949495), ('rec', 0.735), ('acc', 0.7425), ('F1', 0.5915492957746479), ('F2', 0.369718309859155), ('F3', 0.32863849765258224), ('F4', 0.31426056338028174), ('F5', 0.3076056338028169), ('F10', 0.2987323943661972), ('F20', 0.29651408450704225), ('F30', 0.29610328638497657), ('F40', 0.29595950704225354)]\n"
     ]
    }
   ],
   "source": [
    "import collections\n",
    "from nltk import precision,recall,f_measure\n",
    "\n",
    "\n",
    "reality = []\n",
    "for i in test_set:\n",
    "    reality.append(i[1])\n",
    "# print(reality)\n",
    "four = [0.0] * 4\n",
    "ref = dict(neg = 0, pos = 1)\n",
    "for i in range(len(reality)):\n",
    "    a = 2 * ref[prediction[i]] + ref[reality[i]]\n",
    "    # 实际占低\n",
    "    four[a] += 1\n",
    "\n",
    "argu = dict(zip(['TN', 'FN', 'FP', 'TP'], four))\n",
    "print(argu)\n",
    "\n",
    "#精确率、召回率、FI\n",
    "evaluation = []\n",
    "pre = argu['TP'] / (argu['TP'] + argu['TN'])\n",
    "evaluation.append((\"pre\", pre))\n",
    "rec = argu['TP'] / (argu['TP'] + argu['FN'])\n",
    "evaluation.append((\"rec\", rec))\n",
    "acc = (argu['TP'] + argu['TN'])/ sum(four)\n",
    "evaluation.append((\"acc\", acc))\n",
    "# F1 = 2 * pre * rec / (pre + rec)\n",
    "# evaluation.append((\"F1\", F1))\n",
    "\n",
    "for a in list(range(1,6)) + list(range(10, 50, 10)) :\n",
    "    F = ((a**2 + 1) * pre * rec) / (a**2 * (pre + rec))\n",
    "    evaluation.append((\"F\" + str(a), F))\n",
    "\n",
    "\n",
    "\n",
    "print(evaluation)\n"
   ]
  },
  {
   "cell_type": "code",
   "execution_count": 25,
   "metadata": {},
   "outputs": [
    {
     "data": {
      "image/png": "[encoded data removed]",
      "text/plain": [
       "<Figure size 640x480 with 1 Axes>"
      ]
     },
     "metadata": {},
     "output_type": "display_data"
    },
    {
     "data": {
      "image/png": "[encoded data removed]",
      "text/plain": [
       "<Figure size 640x480 with 1 Axes>"
      ]
     },
     "metadata": {},
     "output_type": "display_data"
    }
   ],
   "source": [
    "import matplotlib.pyplot as plt\n",
    "\n",
    "plt.rcParams[\"font.sans-serif\"]=['SimHei']\n",
    "plt.rcParams[\"axes.unicode_minus\"]=False\n",
    "\n",
    "ROCy = argu['TP'] / (argu['TP'] + argu['FN'])\n",
    "ROCx = argu['FP'] / (argu['FP'] + argu['TN'])\n",
    "\n",
    "plt.scatter(ROCx, ROCy, color = 'blue', label = 'ROC')\n",
    "plt.scatter(pre, rec, color = 'red', label = 'PR')\n",
    "plt.title('ROC')\n",
    "plt.xlim([0,1])\n",
    "plt.ylim([0,1])\n",
    "plt.legend(loc='best')\n",
    "plt.grid()\n",
    "plt.show()\n",
    "\n",
    "plt.ylim([0,1])\n",
    "for i in evaluation:\n",
    "    #print(i)\n",
    "    plt.bar(i[0], i[1])\n",
    "plt.show()"
   ]
  },
  {
   "cell_type": "code",
   "execution_count": 92,
   "metadata": {},
   "outputs": [
    {
     "name": "stdout",
     "output_type": "stream",
     "text": [
      "{'TN': 12.0, 'FN': 9.0, 'FP': 188.0, 'TP': 191.0}\n",
      "[('pre', 0.9408866995073891), ('rec', 0.955), ('acc', 0.5075), ('F1', 0.9478908188585607), ('F2', 0.5924317617866005), ('F3', 0.5266060104769782), ('F4', 0.5035669975186104), ('F5', 0.49290322580645163), ('F10', 0.4786848635235732), ('F20', 0.4751302729528536), ('F30', 0.4744720154397574), ('F40', 0.47424162531017366)]\n"
     ]
    },
    {
     "data": {
      "image/png": "[encoded data removed]",
      "text/plain": [
       "<Figure size 640x480 with 1 Axes>"
      ]
     },
     "metadata": {},
     "output_type": "display_data"
    },
    {
     "data": {
      "image/png": "[encoded data removed]",
      "text/plain": [
       "<Figure size 640x480 with 2 Axes>"
      ]
     },
     "metadata": {},
     "output_type": "display_data"
    }
   ],
   "source": [
    "# 测试一下现有的库\n",
    "from sklearn.naive_bayes import GaussianNB\n",
    "\n",
    "BYS = GaussianNB(priors=None)\n",
    "\n",
    "num_of_sen = len(train_set)\n",
    "num_of_words = len(train_set[0][0])\n",
    "# trainset[0][0]是一个dict\n",
    "# transet[0][0] key 是1290个次\n",
    "# transet[0][0] values 是 1290次是否存在在句子里面\n",
    "# transet[0][1] 是句子的感情\n",
    "# transet[0] 就是 [0]和[1]的tuple\n",
    "# trainset 存1600个tuple\n",
    "\n",
    "trainX = []\n",
    "trainY = []\n",
    "\n",
    "for i in range(num_of_sen):\n",
    "    Num = [0] * (num_of_words) # 测试集设为0而非1\n",
    "    tempList = list(train_set[i][0].values())\n",
    "    for j in range(num_of_words):\n",
    "        Num[j] += tempList[j]\n",
    "    trainX.append(Num)\n",
    "    trainY.append(train_set[i][1])\n",
    "BYS.fit(trainX, trainY)\n",
    "\n",
    "\n",
    "BYE_pre = (BYS.predict(TS))\n",
    "four = [0.0] * 4\n",
    "ref = dict(neg = 0, pos = 1)\n",
    "for i in range(len(reality)):\n",
    "    a = 2 * ref[BYE_pre[i]] + ref[reality[i]]\n",
    "    # 实际占低\n",
    "    four[a] += 1\n",
    "argu = dict(zip(['TN', 'FN', 'FP', 'TP'], four))\n",
    "print(argu)\n",
    "\n",
    "evaluation1 = []\n",
    "pre = argu['TP'] / (argu['TP'] + argu['TN'])\n",
    "evaluation1.append((\"pre\", pre))\n",
    "rec = argu['TP'] / (argu['TP'] + argu['FN'])\n",
    "evaluation1.append((\"rec\", rec))\n",
    "acc = (argu['TP'] + argu['TN'])/ sum(four)\n",
    "evaluation1.append((\"acc\", acc))\n",
    "# F1 = 2 * pre * rec / (pre + rec)\n",
    "# evaluation.append((\"F1\", F1))\n",
    "\n",
    "for a in list(range(1,6)) + list(range(10, 50, 10)) :\n",
    "    F = ((a**2 + 1) * pre * rec) / (a**2 * (pre + rec))\n",
    "    evaluation1.append((\"F\" + str(a), F))\n",
    "\n",
    "print(evaluation1)\n",
    "ROCy = argu['TP'] / (argu['TP'] + argu['FN'])\n",
    "ROCx = argu['FP'] / (argu['FP'] + argu['TN'])\n",
    "\n",
    "plt.scatter(ROCx, ROCy, color = 'blue', label = 'ROC')\n",
    "#plt.scatter(pre, rec, color = 'red', label = 'PR')\n",
    "# PR和ROC点重合了\n",
    "plt.title('ROC')\n",
    "plt.xlim([0,1])\n",
    "plt.ylim([0,1])\n",
    "# plt.legend(loc='best')\n",
    "plt.grid()\n",
    "plt.show()\n",
    "\n",
    "plt.subplot(121)\n",
    "plt.title('sklearn')\n",
    "for i in evaluation1:\n",
    "    #print(i)\n",
    "    plt.bar(i[0], i[1])\n",
    "plt.subplot(122)\n",
    "plt.title('my bayes')\n",
    "plt.ylim(0,1)\n",
    "for i in evaluation:\n",
    "    #print(i)\n",
    "    plt.bar(i[0], i[1])\n",
    "plt.show()"
   ]
  },
  {
   "cell_type": "markdown",
   "metadata": {},
   "source": [
    "# 总 结\n",
    "\n",
    "自己实现的BAYES较为粗糙，还有很多参数设计不周到，最后导致拟合的性能远不及现有库的性能高效"
   ]
  }
 ],
 "metadata": {
  "kernelspec": {
   "display_name": "Python 3.9.13 ('base')",
   "language": "python",
   "name": "python3"
  },
  "language_info": {
   "codemirror_mode": {
    "name": "ipython",
    "version": 3
   },
   "file_extension": ".py",
   "mimetype": "text/x-python",
   "name": "python",
   "nbconvert_exporter": "python",
   "pygments_lexer": "ipython3",
   "version": "3.9.13 (main, Aug 25 2022, 23:51:50) [MSC v.1916 64 bit (AMD64)]"
  },
  "vscode": {
   "interpreter": {
    "hash": "791247fb521540597af39f056ceea46f7c8e63b647df86a24ca667b2f375eaad"
   }
  }
 },
 "nbformat": 4,
 "nbformat_minor": 4
}
